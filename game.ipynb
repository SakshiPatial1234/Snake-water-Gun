{
  "nbformat": 4,
  "nbformat_minor": 0,
  "metadata": {
    "colab": {
      "name": "game.ipynb",
      "provenance": [],
      "authorship_tag": "ABX9TyMCdED9oHl0T9gRNv/DlwFW",
      "include_colab_link": true
    },
    "kernelspec": {
      "name": "python3",
      "display_name": "Python 3"
    },
    "language_info": {
      "name": "python"
    }
  },
  "cells": [
    {
      "cell_type": "markdown",
      "metadata": {
        "id": "view-in-github",
        "colab_type": "text"
      },
      "source": [
        "<a href=\"https://colab.research.google.com/github/SakshiPatial1234/Snake-water-Gun/blob/main/game.ipynb\" target=\"_parent\"><img src=\"https://colab.research.google.com/assets/colab-badge.svg\" alt=\"Open In Colab\"/></a>"
      ]
    },
    {
      "cell_type": "code",
      "metadata": {
        "colab": {
          "base_uri": "https://localhost:8080/"
        },
        "id": "lhvsk_hfXqlR",
        "outputId": "5c0dce30-aab3-4ddf-e6b8-d6c69d5022e7"
      },
      "source": [
        "import random\n",
        "\n",
        "\n",
        "def gameWin(comp, b):\n",
        "    if comp == b:\n",
        "        return None\n",
        "\n",
        "    elif comp == 's':\n",
        "        if b == 'w':\n",
        "            return False\n",
        "        elif b == 'g':\n",
        "            return True\n",
        "\n",
        "    elif comp == 'w':\n",
        "        if b == 'g':\n",
        "            return False\n",
        "        elif b == 's':\n",
        "            return True\n",
        "\n",
        "    elif comp == 'g':\n",
        "        if b == 's':\n",
        "            return False\n",
        "        elif b == 'w':\n",
        "            return True\n",
        "\n",
        "print(\"Computer's:snake(s), water(w) or gun(g)\")\n",
        "randno = random.randint(1, 3)\n",
        "if randno == 1:\n",
        "    comp = 's'\n",
        "elif randno == 2:\n",
        "    comp = 'w'\n",
        "elif randno == 1:\n",
        "    comp = 'g'\n",
        "\n",
        "b = input(\"Your Turn: Select snake(s), water(w) or gun(g)\")\n",
        "a = gameWin(comp, b)\n",
        "\n",
        "print(f\"Computer chose {comp}\")\n",
        "print(f\"You chose {b}\")\n",
        "if a == None:\n",
        "    print(\"The Game is Tie\")\n",
        "elif a:\n",
        "    print(\"You win!!\")\n",
        "else:\n",
        "    print(\"You,Lose!\")\n"
      ],
      "execution_count": 1,
      "outputs": [
        {
          "output_type": "stream",
          "text": [
            "Computer's:snake(s), water(w) or gun(g)\n",
            "Your Turn: Select snake(s), water(w) or gun(g)g\n",
            "Computer chose w\n",
            "You chose g\n",
            "You,Lose!\n"
          ],
          "name": "stdout"
        }
      ]
    }
  ]
}